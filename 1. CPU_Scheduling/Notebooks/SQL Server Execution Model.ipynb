{
 "cells": [
  {
   "cell_type": "markdown",
   "id": "08ab8cd4",
   "metadata": {},
   "source": [
    "### **ความเข้าใจเบื้องต้นเกี่ยวกับสถาปัตยกรรมของ SQL Server**"
   ]
  }
 ],
 "metadata": {
  "language_info": {
   "name": "python"
  }
 },
 "nbformat": 4,
 "nbformat_minor": 5
}
